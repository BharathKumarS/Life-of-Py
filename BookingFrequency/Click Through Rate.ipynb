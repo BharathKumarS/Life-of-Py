{
 "cells": [
  {
   "cell_type": "code",
   "execution_count": null,
   "source": [
    "import pandas as pd\n",
    "import numpy as np\n",
    "import random\n",
    "import datetime as dt\n",
    "import gzip"
   ],
   "outputs": [],
   "metadata": {}
  },
  {
   "cell_type": "code",
   "execution_count": null,
   "source": [
    "n = 40428967  #total number of records in the clickstream data \n",
    "sample_size = 1000000\n",
    "skip_values = sorted(random.sample(range(1,n), n-sample_size)) \n",
    "\n",
    "types_train = {\n",
    "    'id': np.dtype(int),\n",
    "    'click': np.dtype(int),\n",
    "    'hour': np.dtype(int),\n",
    "    'C1': np.dtype(int),\n",
    "    'banner_pos': np.dtype(int),\n",
    "    'site_id': np.dtype(str),\n",
    "    'site_domain': np.dtype(str), \n",
    "    'site_category': np.dtype(str),\n",
    "    'app_id': np.dtype(str),\n",
    "    'app_domain': np.dtype(str),\n",
    "    'app_category': np.dtype(str),\n",
    "    'device_id': np.dtype(str),\n",
    "    'device_ip': np.dtype(str),\n",
    "    'device_model': np.dtype(str),\n",
    "    'device_type': np.dtype(int),\n",
    "    'device_conn_type': np.dtype(int),\n",
    "    'C14': np.dtype(int),\n",
    "    'C15': np.dtype(int),\n",
    "    'C16': np.dtype(int),\n",
    "    'C17': np.dtype(int),\n",
    "    'C18': np.dtype(int),\n",
    "    'C19': np.dtype(int),\n",
    "    'C20': np.dtype(int),\n",
    "    'C21':np.dtype(int)\n",
    "}\n",
    "\n",
    "types_test = {\n",
    "    'id': np.dtype(int),\n",
    "    'hour': np.dtype(int),\n",
    "    'C1': np.dtype(int),\n",
    "    'banner_pos': np.dtype(int),\n",
    "    'site_id': np.dtype(str),\n",
    "    'site_domain': np.dtype(str), \n",
    "    'site_category': np.dtype(str),\n",
    "    'app_id': np.dtype(str),\n",
    "    'app_domain': np.dtype(str),\n",
    "    'app_category': np.dtype(str),\n",
    "    'device_id': np.dtype(str),\n",
    "    'device_ip': np.dtype(str),\n",
    "    'device_model': np.dtype(str),\n",
    "    'device_type': np.dtype(int),\n",
    "    'device_conn_type': np.dtype(int),\n",
    "    'C14': np.dtype(int),\n",
    "    'C15': np.dtype(int),\n",
    "    'C16': np.dtype(int),\n",
    "    'C17': np.dtype(int),\n",
    "    'C18': np.dtype(int),\n",
    "    'C19': np.dtype(int),\n",
    "    'C20': np.dtype(int),\n",
    "    'C21':np.dtype(int)\n",
    "}"
   ],
   "outputs": [],
   "metadata": {}
  },
  {
   "cell_type": "code",
   "execution_count": null,
   "source": [
    "parse_date = lambda val : pd.datetime.strptime(val, '%y%m%d%H')\n",
    "\n",
    "with gzip.open(\"C:/Users/Shivasheela/Desktop/Sem 2/DAPA Project CTR/avazu-ctr-prediction/train.gz\") as f:\n",
    "    train = pd.read_csv(f, parse_dates = ['hour'], date_parser = parse_date, dtype=types_train, skiprows = skip_values)\n",
    "\n",
    "train.head()"
   ],
   "outputs": [],
   "metadata": {}
  },
  {
   "cell_type": "code",
   "execution_count": null,
   "source": [
    "train.shape"
   ],
   "outputs": [],
   "metadata": {}
  },
  {
   "cell_type": "code",
   "execution_count": null,
   "source": [
    "train.dtypes"
   ],
   "outputs": [],
   "metadata": {}
  },
  {
   "cell_type": "markdown",
   "source": [
    "Target feature -> click\n",
    "\n",
    "site features -> site_id, site_domain, site_category\n",
    "\n",
    "app feature -> app_id, app_domain, app_category\n",
    "\n",
    "device feature -> device_id, device_ip, device_model, device_type, device_conn_type\n",
    "\n",
    "anonymized categorical features -> C14-C21"
   ],
   "metadata": {}
  },
  {
   "cell_type": "code",
   "execution_count": null,
   "source": [
    "#train['hour'] = pd.to_datetime(train['hour']).dt.date"
   ],
   "outputs": [],
   "metadata": {}
  },
  {
   "cell_type": "code",
   "execution_count": null,
   "source": [
    "#train.dtypes"
   ],
   "outputs": [],
   "metadata": {}
  },
  {
   "cell_type": "code",
   "execution_count": null,
   "source": [
    "train['click'].value_counts()"
   ],
   "outputs": [],
   "metadata": {}
  },
  {
   "cell_type": "code",
   "execution_count": null,
   "source": [
    "import seaborn as sns\n",
    "import matplotlib.pyplot as plt"
   ],
   "outputs": [],
   "metadata": {}
  },
  {
   "cell_type": "code",
   "execution_count": null,
   "source": [
    "sns.countplot(x='click', data= train,palette='hls')\n",
    "plt.show()"
   ],
   "outputs": [],
   "metadata": {}
  },
  {
   "cell_type": "code",
   "execution_count": null,
   "source": [
    "train['click'].value_counts()/len(train)"
   ],
   "outputs": [],
   "metadata": {}
  },
  {
   "cell_type": "code",
   "execution_count": null,
   "source": [
    "train.hour.describe()"
   ],
   "outputs": [],
   "metadata": {}
  },
  {
   "cell_type": "markdown",
   "source": [
    "### The data covers 10days of click streams from 21-10-2014 to 30-10-2014 that is 240 hours\n"
   ],
   "metadata": {}
  },
  {
   "cell_type": "code",
   "execution_count": null,
   "source": [
    "train.groupby('hour').agg({'click':'sum'}).plot(figsize=(12,6))\n",
    "plt.ylabel('Number of clicks')\n",
    "plt.xlabel('Number of clicks by hour')"
   ],
   "outputs": [],
   "metadata": {}
  },
  {
   "cell_type": "markdown",
   "source": [
    "The hourly clicks pattern looks pretty similar every day. However, there were a couple of peak hours, one is sometime in the mid of the day on Oct 22, and another is sometime in the mid of the day on Oct 28. And one off-peak hour is close to mid-night on Oct 24."
   ],
   "metadata": {}
  },
  {
   "cell_type": "markdown",
   "source": [
    "Feature engineering for date time features"
   ],
   "metadata": {}
  },
  {
   "cell_type": "markdown",
   "source": [
    " Extract hour from date time features. "
   ],
   "metadata": {}
  },
  {
   "cell_type": "code",
   "execution_count": null,
   "source": [
    "train['hourofday'] = train.hour.apply(lambda x: x.hour)\n",
    "train.groupby('hourofday').agg({'click':'sum'}).plot(figsize=(12,6))\n",
    "plt.ylabel('Number of clicks')\n",
    "plt.title('click trends by hour of day');"
   ],
   "outputs": [],
   "metadata": {}
  },
  {
   "cell_type": "markdown",
   "source": [
    "In general, the highest number of clicks is at hour 13 and 14 (1pm and 2pm), and the least number of clicks is at hour 0 (mid-night). It seems a useful feature for roughly estimation."
   ],
   "metadata": {}
  },
  {
   "cell_type": "code",
   "execution_count": null,
   "source": [
    "train.head(4)"
   ],
   "outputs": [],
   "metadata": {}
  },
  {
   "cell_type": "code",
   "execution_count": null,
   "source": [
    "train.columns"
   ],
   "outputs": [],
   "metadata": {}
  },
  {
   "cell_type": "code",
   "execution_count": null,
   "source": [
    "train.groupby(['hourofday', 'click']).size().unstack().plot(kind='bar', title='Hour of the Day',figsize=(12,6))\n",
    "plt.ylabel('count')\n",
    "plt.xlabel('Hourly impression vs click')"
   ],
   "outputs": [],
   "metadata": {}
  },
  {
   "cell_type": "code",
   "execution_count": null,
   "source": [
    "train.head()"
   ],
   "outputs": [],
   "metadata": {}
  },
  {
   "cell_type": "markdown",
   "source": [
    "Hourly CTR"
   ],
   "metadata": {}
  },
  {
   "cell_type": "code",
   "execution_count": null,
   "source": [
    "import seaborn as sns"
   ],
   "outputs": [],
   "metadata": {}
  },
  {
   "cell_type": "code",
   "execution_count": null,
   "source": [
    "df_click = train[train['click'] == 1]\n",
    "df_hour = train[['hourofday','click']].groupby(['hourofday']).count().reset_index()\n",
    "df_hour = df_hour.rename(columns={'click': 'impressions'})\n",
    "df_hour['clicks'] = df_click[['hourofday','click']].groupby(['hourofday']).count().reset_index()['click']\n",
    "df_hour['CTR'] = df_hour['clicks']/df_hour['impressions']*100\n",
    "\n",
    "plt.figure(figsize=(12,6))\n",
    "sns.barplot(y='CTR', x='hourofday', data=df_hour)\n",
    "plt.title('Hourly CTR');"
   ],
   "outputs": [],
   "metadata": {}
  },
  {
   "cell_type": "markdown",
   "source": [
    "One of the interesting observations here is that the highest CTR happened in the hour of mid-night, 1, 7 and 15. If you remember, around mid-night has the least number of impressions and clicks."
   ],
   "metadata": {}
  },
  {
   "cell_type": "markdown",
   "source": [
    "Day of the Week"
   ],
   "metadata": {}
  },
  {
   "cell_type": "code",
   "execution_count": null,
   "source": [
    "train['day_of_week'] = train['hour'].apply(lambda val: val.day_name)\n",
    "cats = ['Monday', 'Tuesday', 'Wednesday', 'Thursday', 'Friday', 'Saturday', 'Sunday']\n",
    "train.groupby('dayofweek').agg({'click':'sum'}).reindex(cats).plot(figsize=(12,6))\n",
    "ticks = list(range(0, 7, 1)) # points on the x axis where you want the label to appear\n",
    "labels = \"Mon Tues Weds Thurs Fri Sat Sun\".split()\n",
    "plt.xticks(ticks, labels)\n",
    "plt.title('click trends by day of week');"
   ],
   "outputs": [],
   "metadata": {}
  },
  {
   "cell_type": "markdown",
   "source": [
    "# C1 feature "
   ],
   "metadata": {}
  },
  {
   "cell_type": "code",
   "execution_count": null,
   "source": [
    "print(train.C1.value_counts()/len(train))"
   ],
   "outputs": [],
   "metadata": {}
  },
  {
   "cell_type": "markdown",
   "source": [
    "### C1 is anonymized catergorical value. Although in the datafile it is not mentioned what it represents we still going ahead with data exploration"
   ],
   "metadata": {}
  },
  {
   "cell_type": "markdown",
   "source": [
    "##### C1 value = 1005 has the most data, almost 92%. Let's see whether we can find value of C1 indicates something about CTR."
   ],
   "metadata": {}
  },
  {
   "cell_type": "code",
   "execution_count": null,
   "source": [
    "C1_values = train.C1.unique()\n",
    "C1_values.sort()\n",
    "ctr_avg_list=[]\n",
    "for i in C1_values:\n",
    "    ctr_avg=train.loc[np.where((train.C1 == i))].click.mean()\n",
    "    ctr_avg_list.append(ctr_avg)\n",
    "    print(\"for C1 value: {},  click through rate: {}\".format(i,ctr_avg))"
   ],
   "outputs": [],
   "metadata": {}
  },
  {
   "cell_type": "code",
   "execution_count": null,
   "source": [
    "train.groupby(['C1', 'click']).size().unstack().plot(kind='bar', figsize=(12,6), title='C1 histogram');"
   ],
   "outputs": [],
   "metadata": {}
  },
  {
   "cell_type": "code",
   "execution_count": null,
   "source": [
    "df_c1 = train[['C1','click']].groupby(['C1']).count().reset_index()\n",
    "df_c1 = df_c1.rename(columns={'click': 'impressions'})\n",
    "df_c1['clicks'] = df_click[['C1','click']].groupby(['C1']).count().reset_index()['click']\n",
    "df_c1['CTR'] = df_c1['clicks']/df_c1['impressions']*100\n",
    "\n",
    "plt.figure(figsize=(12,6))\n",
    "sns.barplot(y='CTR', x='C1', data=df_c1)\n",
    "plt.title('CTR by C1');"
   ],
   "outputs": [],
   "metadata": {}
  },
  {
   "cell_type": "code",
   "execution_count": null,
   "source": [
    "train['click'].mean()\n"
   ],
   "outputs": [],
   "metadata": {}
  },
  {
   "cell_type": "markdown",
   "source": [
    "## Average CTR in the data is found to be .17"
   ],
   "metadata": {}
  },
  {
   "cell_type": "code",
   "execution_count": null,
   "source": [
    "df_c1.CTR.describe()\n"
   ],
   "outputs": [],
   "metadata": {}
  },
  {
   "cell_type": "markdown",
   "source": [
    "### The important C1 values and CTR pairs are:\n",
    "\n",
    "1005: 92% of the data and 0.17 CTR\n",
    "\n",
    "1002: 5.5% of the data and 0.21 CTR\n",
    "\n",
    "1010: 2.3% of the data and 0.096 CTR\n",
    "\n",
    "1002 has a much higher than average CTR, and 1010 has a much lower than average CTR, it seems these two C1 values are important for predicting CTR."
   ],
   "metadata": {}
  },
  {
   "cell_type": "markdown",
   "source": [
    "## Banner Position"
   ],
   "metadata": {}
  },
  {
   "cell_type": "code",
   "execution_count": null,
   "source": [
    "print(train.banner_pos.value_counts()/len(train))"
   ],
   "outputs": [],
   "metadata": {}
  },
  {
   "cell_type": "code",
   "execution_count": null,
   "source": [
    "banner_pos = train.banner_pos.unique()\n",
    "banner_pos.sort()\n",
    "ctr_avg_list=[]\n",
    "for i in banner_pos:\n",
    "    ctr_avg=train.loc[np.where((train.banner_pos == i))].click.mean()\n",
    "    ctr_avg_list.append(ctr_avg)\n",
    "    print(\"for banner position: {},  click through rate: {}\".format(i,ctr_avg))"
   ],
   "outputs": [],
   "metadata": {}
  },
  {
   "cell_type": "code",
   "execution_count": null,
   "source": [
    "train.groupby(['banner_pos', 'click']).size().unstack().plot(kind='bar', figsize=(12,6), title='banner position histogram');"
   ],
   "outputs": [],
   "metadata": {}
  },
  {
   "cell_type": "code",
   "execution_count": null,
   "source": [
    "df_banner = train[['banner_pos','click']].groupby(['banner_pos']).count().reset_index()\n",
    "df_banner = df_banner.rename(columns={'click': 'impressions'})\n",
    "df_banner['clicks'] = df_click[['banner_pos','click']].groupby(['banner_pos']).count().reset_index()['click']\n",
    "df_banner['CTR'] = df_banner['clicks']/df_banner['impressions']*100\n",
    "sort_banners = df_banner.sort_values(by='CTR',ascending=False)['banner_pos'].tolist()\n",
    "plt.figure(figsize=(12,6))\n",
    "sns.barplot(y='CTR', x='banner_pos', data=df_banner, order=sort_banners)\n",
    "plt.title('CTR by banner position');"
   ],
   "outputs": [],
   "metadata": {}
  },
  {
   "cell_type": "code",
   "execution_count": null,
   "source": [
    "df_banner.CTR.describe()"
   ],
   "outputs": [],
   "metadata": {}
  },
  {
   "cell_type": "markdown",
   "source": [
    "## Device Features"
   ],
   "metadata": {}
  },
  {
   "cell_type": "code",
   "execution_count": null,
   "source": [
    "print(\"There are {} devices in the data set\".format(train.device_id.nunique()))\n"
   ],
   "outputs": [],
   "metadata": {}
  },
  {
   "cell_type": "code",
   "execution_count": null,
   "source": [
    "print('The top 10 devices that have the most impressions')\n",
    "print((train.device_id.value_counts()/len(train))[0:10])"
   ],
   "outputs": [],
   "metadata": {}
  },
  {
   "cell_type": "code",
   "execution_count": null,
   "source": [
    "top10_devices = (train.device_id.value_counts()/len(train))[0:10].index\n",
    "click_avg_list=[]\n",
    "\n",
    "for i in top10_devices:\n",
    "    click_avg=train.loc[np.where((train.device_id == i))].click.mean()\n",
    "    click_avg_list.append(click_avg)\n",
    "    print(\"for device id value: {},  click through rate: {}\".format(i,click_avg))"
   ],
   "outputs": [],
   "metadata": {}
  },
  {
   "cell_type": "code",
   "execution_count": null,
   "source": [
    "top10_device = train[(train.device_id.isin((train.device_id.value_counts()/len(train))[0:10].index))]\n",
    "top10_device_click = top10_device[top10_device['click'] == 1]\n",
    "top10_device.groupby(['device_id', 'click']).size().unstack().plot(kind='bar', figsize=(12,6), title='Top 10 device ids histogram');"
   ],
   "outputs": [],
   "metadata": {}
  },
  {
   "cell_type": "code",
   "execution_count": null,
   "source": [
    "def convert_obj_to_int(self):\n",
    "    \n",
    "    object_list_columns = self.columns\n",
    "    object_list_dtypes = self.dtypes\n",
    "    new_col_suffix = '_int'\n",
    "    for index in range(0,len(object_list_columns)):\n",
    "        if object_list_dtypes[index] == object :\n",
    "            self[object_list_columns[index]+new_col_suffix] = self[object_list_columns[index]].map( lambda  x: hash(x))\n",
    "            self.drop([object_list_columns[index]],inplace=True,axis=1)\n",
    "    return self\n",
    "train = convert_obj_to_int(train)"
   ],
   "outputs": [],
   "metadata": {}
  },
  {
   "cell_type": "code",
   "execution_count": null,
   "source": [
    "train.head()"
   ],
   "outputs": [],
   "metadata": {}
  }
 ],
 "metadata": {
  "kernelspec": {
   "display_name": "Python 3",
   "language": "python",
   "name": "python3"
  },
  "language_info": {
   "codemirror_mode": {
    "name": "ipython",
    "version": 3
   },
   "file_extension": ".py",
   "mimetype": "text/x-python",
   "name": "python",
   "nbconvert_exporter": "python",
   "pygments_lexer": "ipython3",
   "version": "3.8.10"
  }
 },
 "nbformat": 4,
 "nbformat_minor": 5
}