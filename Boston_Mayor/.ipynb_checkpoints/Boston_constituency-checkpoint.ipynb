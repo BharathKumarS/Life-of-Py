{
 "cells": [
  {
   "cell_type": "markdown",
   "metadata": {},
   "source": [
    "January 2020, BOS 311 Service Requests Analysis\n",
    "\n",
    "The Mayor and his Cabinet have asked the Citywide Analytics Team to look into all cases submitted to BOS:311 in January 2020 to understand current constituent concerns and performance trends across city departments. \n",
    "\n",
    "Please provide a 1-2 page written analysis memo with observations and potential items for further analysis or action for the Mayor and the Analytics Team to take. Include any data visualizations (charts, tables, maps, etc.) that you think help illustrate your findings and recommendations (visualizations do not count toward your page limit). Please highlight any underlying assumptions made in your analysis. You are also welcome (but not required) to use data from other sources if you believe it will complement your analysis, but please send us both the source and the additional data that you use.\n",
    "\n",
    "Possible topics for analysis include:\n",
    "\n",
    "* What general trends do you see in constituent engagement? \n",
    "* What services are people requesting? \n",
    "* What do you see at a neighborhood level? \n",
    "* City Operations: How long does it take to complete a request? \n",
    "* How many and what kind of cases were still open at the end of January? \n",
    "* What do you see at the departmental-level? \n",
    "* What are areas that the City should focus on and what areas has the City done well in?  \n",
    "* How would you work with departments to improve City services? \n",
    "* Are there problems you see in the dataset that would pose challenges to future analyses? \n",
    "* How can the City use the information in this dataset—both within City Hall and with the public—to better connect with communities?"
   ]
  },
  {
   "cell_type": "code",
   "execution_count": 38,
   "metadata": {},
   "outputs": [],
   "source": [
    "import pandas as pd\n",
    "import numpy as np \n",
    "import matplotlib as plt \n",
    "import seaborn\n",
    "#Data set URL\n",
    "url = 'https://data.boston.gov/dataset/8048697b-ad64-4bfc-b090-ee00169f2323/resource/6ff6a6fd-3141-4440-a880-6f60a37fe789/download/tmpt1d4qk7n.csv'\n",
    "bdata = pd.read_csv(url)\n",
    "#Droping the columns that are not required for this scope of study\n",
    "bdata.drop(['case_enquiry_id', 'latitude', 'longitude'], axis = 1, inplace = True)\n",
    "#With the intention of build word cloud, removing the redundant string from the closure_reason column\n",
    "bdata.closure_reason.replace('^Case Closed. Closed date : ', '', regex = True, inplace = True)\n",
    "bdata.closure_reason.replace(' ', 'No data', inplace = True)\n",
    "#Filling the NaN values in columns submittedphoto and closedphoto with False\n",
    "bdata['submittedphoto'].fillna('False', inplace = True)\n",
    "bdata['closedphoto'].fillna('False', inplace = True)\n",
    "#Setting the image url to true, only to get the count of submissions\n",
    "bdata.closedphoto.replace('^https:.*', 'True', regex = True, inplace = True)\n",
    "bdata.submittedphoto.replace('^https:.*', 'True', regex = True, inplace = True)\n",
    "#Removing Ward n from the column ward\n",
    "bdata.ward.replace('^Ward ', '', regex = True, inplace = True)\n",
    "bdata['location_zipcode'].fillna('No Zip code', inplace = True)"
   ]
  },
  {
   "cell_type": "code",
   "execution_count": null,
   "metadata": {},
   "outputs": [],
   "source": []
  }
 ],
 "metadata": {
  "kernelspec": {
   "display_name": "Python 3",
   "language": "python",
   "name": "python3"
  },
  "language_info": {
   "codemirror_mode": {
    "name": "ipython",
    "version": 3
   },
   "file_extension": ".py",
   "mimetype": "text/x-python",
   "name": "python",
   "nbconvert_exporter": "python",
   "pygments_lexer": "ipython3",
   "version": "3.7.4"
  }
 },
 "nbformat": 4,
 "nbformat_minor": 4
}
