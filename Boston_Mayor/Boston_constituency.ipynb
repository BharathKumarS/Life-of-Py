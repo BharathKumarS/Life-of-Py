{
 "cells": [
  {
   "cell_type": "markdown",
   "metadata": {},
   "source": [
    "2020 Analytics Summer Fellowship Data Exercise\n",
    "\n",
    "The Mayor and his Cabinet have asked the Citywide Analytics Team to look into all cases submitted to BOS:311 in January 2020 to understand current constituent concerns and performance trends across city departments. \n",
    "\n",
    "Please provide a 1-2 page written analysis memo with observations and potential items for further analysis or action for the Mayor and the Analytics Team to take. Include any data visualizations (charts, tables, maps, etc.) that you think help illustrate your findings and recommendations (visualizations do not count toward your page limit). Please highlight any underlying assumptions made in your analysis. You are also welcome (but not required) to use data from other sources if you believe it will complement your analysis, but please send us both the source and the additional data that you use.\n",
    "\n",
    "Possible topics for analysis include:\n",
    "\n",
    "* What general trends do you see in constituent engagement? What services are people requesting? What do you see at a neighborhood level? Is there a disparity in the kinds of cases or particular locations where people submit photos?\n",
    "\n",
    "* City Operations: How long does it take to complete a request? How many and what kind of cases were still open at the end of January? What do you see at the departmental-level? What are areas that the City should focus on and what areas has the City done well in? \n",
    "\n",
    "* Given more time, what would you like to do with this dataset? Is there further analysis you would like to do? How would you work with departments to improve City services? Are there problems you see in the dataset that would pose challenges to future analyses? \n",
    "\n",
    "* How can the City use the information in this dataset—both within City Hall and with the public—to better connect with communities?"
   ]
  },
  {
   "cell_type": "code",
   "execution_count": 8,
   "metadata": {
    "scrolled": false
   },
   "outputs": [
    {
     "data": {
      "text/plain": [
       "(52517, 29)"
      ]
     },
     "execution_count": 8,
     "metadata": {},
     "output_type": "execute_result"
    }
   ],
   "source": [
    "import pandas as pd\n",
    "import numpy as np \n",
    "import matplotlib as plt \n",
    "import seaborn\n",
    "url = 'https://data.boston.gov/dataset/8048697b-ad64-4bfc-b090-ee00169f2323/resource/6ff6a6fd-3141-4440-a880-6f60a37fe789/download/tmpt1d4qk7n.csv'\n",
    "bdata = pd.read_csv(url)\n",
    "bdata.shape"
   ]
  },
  {
   "cell_type": "markdown",
   "metadata": {},
   "source": []
  }
 ],
 "metadata": {
  "kernelspec": {
   "display_name": "Python 3",
   "language": "python",
   "name": "python3"
  },
  "language_info": {
   "codemirror_mode": {
    "name": "ipython",
    "version": 3
   },
   "file_extension": ".py",
   "mimetype": "text/x-python",
   "name": "python",
   "nbconvert_exporter": "python",
   "pygments_lexer": "ipython3",
   "version": "3.7.4"
  }
 },
 "nbformat": 4,
 "nbformat_minor": 4
}
