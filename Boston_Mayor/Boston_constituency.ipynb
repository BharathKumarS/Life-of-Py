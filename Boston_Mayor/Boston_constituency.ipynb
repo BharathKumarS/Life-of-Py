{
 "cells": [
  {
   "cell_type": "markdown",
   "metadata": {},
   "source": [
    "\n",
    "What general trends do you see in constituent engagement? What services are people requesting? What do you see at a neighborhood level? Is there a disparity in the kinds of cases or particular locations where people submit photos?\n",
    "\n",
    "City Operations: How long does it take to complete a request? How many and what kind of cases were still open at the end of January? What do you see at the departmental-level? What are areas that the City should focus on and what areas has the City done well in? \n",
    "\n",
    " Given more time, what would you like to do with this dataset? Is there further analysis you would like to do? How would you work with departments to improve City services? Are there problems you see in the dataset that would pose challenges to future analyses? \n",
    "\n",
    " How can the City use the information in this dataset—both within City Hall and with the public—to better connect with communities?  \n"
   ]
  },
  {
   "cell_type": "code",
   "execution_count": null,
   "metadata": {},
   "outputs": [],
   "source": [
    "import pandas as pd\n",
    "import "
   ]
  }
 ],
 "metadata": {
  "kernelspec": {
   "display_name": "Python 3",
   "language": "python",
   "name": "python3"
  },
  "language_info": {
   "codemirror_mode": {
    "name": "ipython",
    "version": 3
   },
   "file_extension": ".py",
   "mimetype": "text/x-python",
   "name": "python",
   "nbconvert_exporter": "python",
   "pygments_lexer": "ipython3",
   "version": "3.8.1"
  }
 },
 "nbformat": 4,
 "nbformat_minor": 4
}
