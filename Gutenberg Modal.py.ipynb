{
 "cells": [
  {
   "cell_type": "markdown",
   "metadata": {},
   "source": [
    "# Gutenbern corpus with NLTK package\n",
    "### Step 1: Download and Install Gutenberg Corpus\n",
    "\n",
    "    Install NLTK: run sudo pip install -U nltk\n",
    "    Install Numpy (optional): run sudo pip install -U numpy\n",
    "    Test installation: run python then type import nltk\n",
    "\n",
    "### Step 2: Import source data from the package NLTK\n",
    "#### The Brown Corpus was the first million-word electronic corpus of English, created in 1961 at Brown University. This corpus contains text from 500 sources, and the sources have been categorized by genre, such as news, editorial, and so on"
   ]
  },
  {
   "cell_type": "code",
   "execution_count": 9,
   "metadata": {},
   "outputs": [
    {
     "name": "stdout",
     "output_type": "stream",
     "text": [
      "['adventure', 'belles_lettres', 'editorial', 'fiction', 'government', 'hobbies', 'humor', 'learned', 'lore', 'mystery', 'news', 'religion', 'reviews', 'romance', 'science_fiction']\n"
     ]
    },
    {
     "name": "stderr",
     "output_type": "stream",
     "text": [
      "[nltk_data] Downloading package brown to /Users/raam/nltk_data...\n",
      "[nltk_data]   Package brown is already up-to-date!\n"
     ]
    }
   ],
   "source": [
    "import nltk\n",
    "nltk.download('brown')\n",
    "cats = brown.categories()\n",
    "print(cats)"
   ]
  },
  {
   "cell_type": "markdown",
   "metadata": {},
   "source": [
    "### Step 3: Relative Frequency distributionand conditional frequency of modals"
   ]
  },
  {
   "cell_type": "code",
   "execution_count": 13,
   "metadata": {},
   "outputs": [
    {
     "name": "stdout",
     "output_type": "stream",
     "text": [
      "Frequency Distribution of modals \n",
      "\n",
      "can: 94 could: 87 may: 93 might: 38 will: 389 would: 246 should: 61 "
     ]
    }
   ],
   "source": [
    "#Frequency Distribution\n",
    "text = brown.words(categories='news')\n",
    "fdist = nltk.FreqDist(w.lower() for w in text)\n",
    "modals = ['can', 'could', 'may', 'might', 'will', 'would', 'should']\n",
    "print('Frequency Distribution of modals \\n')\n",
    "for mods in modals:\n",
    "    print(mods + ':', fdist[mods], end=' ')"
   ]
  },
  {
   "cell_type": "code",
   "execution_count": 16,
   "metadata": {},
   "outputs": [
    {
     "name": "stdout",
     "output_type": "stream",
     "text": [
      "Conditional frequency Distribution for modals across all genres\n",
      "\n",
      "                   can  could    may  might   will  would should \n",
      "      adventure     46    151      5     58     50    191     15 \n",
      " belles_lettres    246    213    207    113    236    392    102 \n",
      "      editorial    121     56     74     39    233    180     88 \n",
      "        fiction     37    166      8     44     52    287     35 \n",
      "     government    117     38    153     13    244    120    112 \n",
      "        hobbies    268     58    131     22    264     78     73 \n",
      "          humor     16     30      8      8     13     56      7 \n",
      "        learned    365    159    324    128    340    319    171 \n",
      "           lore    170    141    165     49    175    186     76 \n",
      "        mystery     42    141     13     57     20    186     29 \n",
      "           news     93     86     66     38    389    244     59 \n",
      "       religion     82     59     78     12     71     68     45 \n",
      "        reviews     45     40     45     26     58     47     18 \n",
      "        romance     74    193     11     51     43    244     32 \n",
      "science_fiction     16     49      4     12     16     79      3 \n"
     ]
    }
   ],
   "source": [
    "cFrqDist = nltk.ConditionalFreqDist((genre, word)\n",
    "                               for genre in brown.categories()\n",
    "                               for word in brown.words(categories=genre))\n",
    "genres = cats\n",
    "print('Conditional frequency Distribution for modals across all genres\\n')\n",
    "cFrqDist.tabulate(conditions=genres, samples=modals)"
   ]
  },
  {
   "cell_type": "code",
   "execution_count": null,
   "metadata": {},
   "outputs": [],
   "source": []
  }
 ],
 "metadata": {
  "kernelspec": {
   "display_name": "Python 3",
   "language": "python",
   "name": "python3"
  },
  "language_info": {
   "codemirror_mode": {
    "name": "ipython",
    "version": 3
   },
   "file_extension": ".py",
   "mimetype": "text/x-python",
   "name": "python",
   "nbconvert_exporter": "python",
   "pygments_lexer": "ipython3",
   "version": "3.7.6"
  }
 },
 "nbformat": 4,
 "nbformat_minor": 4
}
