{
 "cells": [
  {
   "cell_type": "markdown",
   "metadata": {},
   "source": [
    "# <div style='background:gainsboro; font-family:Georgia; text-align:center'> How to make the ML models easily consumable with FLASK REST API?</div>\n",
    "***\n",
    "> ### <div style='font-family:Georgia; text-align: justify'> APIs are essential to make the ML model be accessible; after building ML models, to make use of its results, or to implement it in an application, REST APIs can be used. In this document, I will walk you through the steps from creating a simple ML model to creating, testing a FLASK REST API to make use of the ML model. </div>\n",
    "\n",
    "![title](Project_Img_title.png)\n",
    "\n",
    "---\n",
    "### <div style='text-align: center'> Tools used: VS Code, Anaconda, Jupyter Notebook, Python, FLASK REST API, Numpy, Pandas, and Sci-kit-learn </div>\n",
    "---\n",
    "<div style='text-align: center'> Assuming you have installed Anaconda or Miniconda, Python, VS Code on your machine </div>"
   ]
  },
  {
   "cell_type": "markdown",
   "metadata": {},
   "source": [
    "### <div style='font-family:Georgia'> Begin with creating an Anacond Data Science virtual environment, to be used with Python </div>\n",
    "\n",
    "#### <div style='font-family:Georgia'>Choose a folder as root directory for this project and navigate to this folder on the Terminal </div>"
   ]
  },
  {
   "cell_type": "markdown",
   "metadata": {},
   "source": [
    "---\n",
    "1. Create an Anaconda environment by executing the below command on the Terminal <br>\n",
    "    conda create -n lifeofpy python=3.7 pandas jupyter seaborn scikit-learn keras tensorflow <br>\n",
    "    where 'lifeofpy' is a name given to the Anaconda virtual environment <br>\n",
    "2. Create another folder and choose this as your Workspace on VS Code for this project <br>\n",
    "3. Open the Workspace in VS Code <br>\n",
    "4. Open Command Pallet: View > Command Pallette > Python: Select Interpreter <br>\n",
    "5. Select the Anaconda virtual environment that was created in Step 1 <br>\n",
    "    In my machine it was 'Python 3.7.7 64-bit ('lifeofpy':conda)' <br>\n",
    "\n",
    "**The project goal can be achieved without creating a virtual environment. However, creating one is a best practice.**\n",
    "    \n",
    "6. By now, VS Code is setup with the required environment to complete the project. Let us now create a Jupyter notebook file in VS Code. Open Command Pallette; View > Command Pallette. Or, press ⇧⌘P > Python: Create New Jupyter Notebook <br>\n",
    "7. We are now good to work with the dataset and build a simple ML model\n",
    "---"
   ]
  },
  {
   "cell_type": "markdown",
   "metadata": {},
   "source": [
    "> The project has the below four important files.\n",
    "1. Flask_ML_API.ipynb; A Jupyter Notebook file that will have the Python code to process the dataset, ML model and a snippet to respond to the JSON request\n",
    "2. app.py; A Python script file to handel to create a web server, create API and manage the API calls\n",
    "3. The other two files are model.pkl and model_columns.pkl files. They are ML object model files saved into byte stream. (Serialization, De-serialization)"
   ]
  },
  {
   "cell_type": "markdown",
   "metadata": {},
   "source": [
    "**The Project directory structure looks like the image below**\n",
    "![title](Prj_Dir.png)"
   ]
  },
  {
   "cell_type": "markdown",
   "metadata": {},
   "source": [
    "#### <div style='text-align:center; color:blue'> The below code goes in Flask_ML_API.ipynb file </div>"
   ]
  },
  {
   "cell_type": "markdown",
   "metadata": {},
   "source": [
    "#### Import necessary libraries"
   ]
  },
  {
   "cell_type": "code",
   "execution_count": 1,
   "metadata": {},
   "outputs": [],
   "source": [
    "import pandas as pd\n",
    "import numpy as np\n",
    "from sklearn import metrics"
   ]
  },
  {
   "cell_type": "markdown",
   "metadata": {},
   "source": [
    "#### Get the dataset"
   ]
  },
  {
   "cell_type": "code",
   "execution_count": 2,
   "metadata": {},
   "outputs": [],
   "source": [
    "from sklearn.datasets import load_boston\n",
    "bos = load_boston()"
   ]
  },
  {
   "cell_type": "markdown",
   "metadata": {},
   "source": [
    "### A bit about the dataset    \n",
    "    The boston house-prices dataset (regression).\n",
    "    ==============     ==============\n",
    "    Samples total                 506\n",
    "    Dimensionality                 13\n",
    "    Features           real, positive\n",
    "    Targets             real 5. - 50.\n",
    "    ==============     ==============\n",
    "    Returns\n",
    "    -------\n",
    "    data : Bunch\n",
    "     Dictionary-like object, the interesting attributes are:\n",
    "     'data', the data to learn, 'target', the regression targets, and 'DESCR', the full description of the dataset."
   ]
  },
  {
   "cell_type": "markdown",
   "metadata": {},
   "source": [
    "#### Initialize the dataset"
   ]
  },
  {
   "cell_type": "code",
   "execution_count": 3,
   "metadata": {},
   "outputs": [],
   "source": [
    "bos_init = pd.DataFrame(bos.data)"
   ]
  },
  {
   "cell_type": "code",
   "execution_count": 4,
   "metadata": {},
   "outputs": [
    {
     "data": {
      "text/html": [
       "<div>\n",
       "<style scoped>\n",
       "    .dataframe tbody tr th:only-of-type {\n",
       "        vertical-align: middle;\n",
       "    }\n",
       "\n",
       "    .dataframe tbody tr th {\n",
       "        vertical-align: top;\n",
       "    }\n",
       "\n",
       "    .dataframe thead th {\n",
       "        text-align: right;\n",
       "    }\n",
       "</style>\n",
       "<table border=\"1\" class=\"dataframe\">\n",
       "  <thead>\n",
       "    <tr style=\"text-align: right;\">\n",
       "      <th></th>\n",
       "      <th>0</th>\n",
       "      <th>1</th>\n",
       "      <th>2</th>\n",
       "      <th>3</th>\n",
       "      <th>4</th>\n",
       "      <th>5</th>\n",
       "      <th>6</th>\n",
       "      <th>7</th>\n",
       "      <th>8</th>\n",
       "      <th>9</th>\n",
       "      <th>10</th>\n",
       "      <th>11</th>\n",
       "      <th>12</th>\n",
       "    </tr>\n",
       "  </thead>\n",
       "  <tbody>\n",
       "    <tr>\n",
       "      <th>0</th>\n",
       "      <td>0.00632</td>\n",
       "      <td>18.0</td>\n",
       "      <td>2.31</td>\n",
       "      <td>0.0</td>\n",
       "      <td>0.538</td>\n",
       "      <td>6.575</td>\n",
       "      <td>65.2</td>\n",
       "      <td>4.0900</td>\n",
       "      <td>1.0</td>\n",
       "      <td>296.0</td>\n",
       "      <td>15.3</td>\n",
       "      <td>396.90</td>\n",
       "      <td>4.98</td>\n",
       "    </tr>\n",
       "    <tr>\n",
       "      <th>1</th>\n",
       "      <td>0.02731</td>\n",
       "      <td>0.0</td>\n",
       "      <td>7.07</td>\n",
       "      <td>0.0</td>\n",
       "      <td>0.469</td>\n",
       "      <td>6.421</td>\n",
       "      <td>78.9</td>\n",
       "      <td>4.9671</td>\n",
       "      <td>2.0</td>\n",
       "      <td>242.0</td>\n",
       "      <td>17.8</td>\n",
       "      <td>396.90</td>\n",
       "      <td>9.14</td>\n",
       "    </tr>\n",
       "    <tr>\n",
       "      <th>2</th>\n",
       "      <td>0.02729</td>\n",
       "      <td>0.0</td>\n",
       "      <td>7.07</td>\n",
       "      <td>0.0</td>\n",
       "      <td>0.469</td>\n",
       "      <td>7.185</td>\n",
       "      <td>61.1</td>\n",
       "      <td>4.9671</td>\n",
       "      <td>2.0</td>\n",
       "      <td>242.0</td>\n",
       "      <td>17.8</td>\n",
       "      <td>392.83</td>\n",
       "      <td>4.03</td>\n",
       "    </tr>\n",
       "    <tr>\n",
       "      <th>3</th>\n",
       "      <td>0.03237</td>\n",
       "      <td>0.0</td>\n",
       "      <td>2.18</td>\n",
       "      <td>0.0</td>\n",
       "      <td>0.458</td>\n",
       "      <td>6.998</td>\n",
       "      <td>45.8</td>\n",
       "      <td>6.0622</td>\n",
       "      <td>3.0</td>\n",
       "      <td>222.0</td>\n",
       "      <td>18.7</td>\n",
       "      <td>394.63</td>\n",
       "      <td>2.94</td>\n",
       "    </tr>\n",
       "    <tr>\n",
       "      <th>4</th>\n",
       "      <td>0.06905</td>\n",
       "      <td>0.0</td>\n",
       "      <td>2.18</td>\n",
       "      <td>0.0</td>\n",
       "      <td>0.458</td>\n",
       "      <td>7.147</td>\n",
       "      <td>54.2</td>\n",
       "      <td>6.0622</td>\n",
       "      <td>3.0</td>\n",
       "      <td>222.0</td>\n",
       "      <td>18.7</td>\n",
       "      <td>396.90</td>\n",
       "      <td>5.33</td>\n",
       "    </tr>\n",
       "  </tbody>\n",
       "</table>\n",
       "</div>"
      ],
      "text/plain": [
       "         0     1     2    3      4      5     6       7    8      9    10  \\\n",
       "0  0.00632  18.0  2.31  0.0  0.538  6.575  65.2  4.0900  1.0  296.0  15.3   \n",
       "1  0.02731   0.0  7.07  0.0  0.469  6.421  78.9  4.9671  2.0  242.0  17.8   \n",
       "2  0.02729   0.0  7.07  0.0  0.469  7.185  61.1  4.9671  2.0  242.0  17.8   \n",
       "3  0.03237   0.0  2.18  0.0  0.458  6.998  45.8  6.0622  3.0  222.0  18.7   \n",
       "4  0.06905   0.0  2.18  0.0  0.458  7.147  54.2  6.0622  3.0  222.0  18.7   \n",
       "\n",
       "       11    12  \n",
       "0  396.90  4.98  \n",
       "1  396.90  9.14  \n",
       "2  392.83  4.03  \n",
       "3  394.63  2.94  \n",
       "4  396.90  5.33  "
      ]
     },
     "execution_count": 4,
     "metadata": {},
     "output_type": "execute_result"
    }
   ],
   "source": [
    "#Preview of the top five rows\n",
    "bos_init.head()"
   ]
  },
  {
   "cell_type": "markdown",
   "metadata": {},
   "source": [
    "#### Import feature names from the dataset"
   ]
  },
  {
   "cell_type": "code",
   "execution_count": 5,
   "metadata": {},
   "outputs": [
    {
     "data": {
      "text/html": [
       "<div>\n",
       "<style scoped>\n",
       "    .dataframe tbody tr th:only-of-type {\n",
       "        vertical-align: middle;\n",
       "    }\n",
       "\n",
       "    .dataframe tbody tr th {\n",
       "        vertical-align: top;\n",
       "    }\n",
       "\n",
       "    .dataframe thead th {\n",
       "        text-align: right;\n",
       "    }\n",
       "</style>\n",
       "<table border=\"1\" class=\"dataframe\">\n",
       "  <thead>\n",
       "    <tr style=\"text-align: right;\">\n",
       "      <th></th>\n",
       "      <th>0</th>\n",
       "      <th>1</th>\n",
       "      <th>2</th>\n",
       "      <th>3</th>\n",
       "      <th>4</th>\n",
       "      <th>5</th>\n",
       "      <th>6</th>\n",
       "      <th>7</th>\n",
       "      <th>8</th>\n",
       "      <th>9</th>\n",
       "      <th>10</th>\n",
       "      <th>11</th>\n",
       "      <th>12</th>\n",
       "    </tr>\n",
       "  </thead>\n",
       "  <tbody>\n",
       "    <tr>\n",
       "      <th>0</th>\n",
       "      <td>0.00632</td>\n",
       "      <td>18.0</td>\n",
       "      <td>2.31</td>\n",
       "      <td>0.0</td>\n",
       "      <td>0.538</td>\n",
       "      <td>6.575</td>\n",
       "      <td>65.2</td>\n",
       "      <td>4.0900</td>\n",
       "      <td>1.0</td>\n",
       "      <td>296.0</td>\n",
       "      <td>15.3</td>\n",
       "      <td>396.90</td>\n",
       "      <td>4.98</td>\n",
       "    </tr>\n",
       "    <tr>\n",
       "      <th>1</th>\n",
       "      <td>0.02731</td>\n",
       "      <td>0.0</td>\n",
       "      <td>7.07</td>\n",
       "      <td>0.0</td>\n",
       "      <td>0.469</td>\n",
       "      <td>6.421</td>\n",
       "      <td>78.9</td>\n",
       "      <td>4.9671</td>\n",
       "      <td>2.0</td>\n",
       "      <td>242.0</td>\n",
       "      <td>17.8</td>\n",
       "      <td>396.90</td>\n",
       "      <td>9.14</td>\n",
       "    </tr>\n",
       "    <tr>\n",
       "      <th>2</th>\n",
       "      <td>0.02729</td>\n",
       "      <td>0.0</td>\n",
       "      <td>7.07</td>\n",
       "      <td>0.0</td>\n",
       "      <td>0.469</td>\n",
       "      <td>7.185</td>\n",
       "      <td>61.1</td>\n",
       "      <td>4.9671</td>\n",
       "      <td>2.0</td>\n",
       "      <td>242.0</td>\n",
       "      <td>17.8</td>\n",
       "      <td>392.83</td>\n",
       "      <td>4.03</td>\n",
       "    </tr>\n",
       "    <tr>\n",
       "      <th>3</th>\n",
       "      <td>0.03237</td>\n",
       "      <td>0.0</td>\n",
       "      <td>2.18</td>\n",
       "      <td>0.0</td>\n",
       "      <td>0.458</td>\n",
       "      <td>6.998</td>\n",
       "      <td>45.8</td>\n",
       "      <td>6.0622</td>\n",
       "      <td>3.0</td>\n",
       "      <td>222.0</td>\n",
       "      <td>18.7</td>\n",
       "      <td>394.63</td>\n",
       "      <td>2.94</td>\n",
       "    </tr>\n",
       "    <tr>\n",
       "      <th>4</th>\n",
       "      <td>0.06905</td>\n",
       "      <td>0.0</td>\n",
       "      <td>2.18</td>\n",
       "      <td>0.0</td>\n",
       "      <td>0.458</td>\n",
       "      <td>7.147</td>\n",
       "      <td>54.2</td>\n",
       "      <td>6.0622</td>\n",
       "      <td>3.0</td>\n",
       "      <td>222.0</td>\n",
       "      <td>18.7</td>\n",
       "      <td>396.90</td>\n",
       "      <td>5.33</td>\n",
       "    </tr>\n",
       "  </tbody>\n",
       "</table>\n",
       "</div>"
      ],
      "text/plain": [
       "         0     1     2    3      4      5     6       7    8      9    10  \\\n",
       "0  0.00632  18.0  2.31  0.0  0.538  6.575  65.2  4.0900  1.0  296.0  15.3   \n",
       "1  0.02731   0.0  7.07  0.0  0.469  6.421  78.9  4.9671  2.0  242.0  17.8   \n",
       "2  0.02729   0.0  7.07  0.0  0.469  7.185  61.1  4.9671  2.0  242.0  17.8   \n",
       "3  0.03237   0.0  2.18  0.0  0.458  6.998  45.8  6.0622  3.0  222.0  18.7   \n",
       "4  0.06905   0.0  2.18  0.0  0.458  7.147  54.2  6.0622  3.0  222.0  18.7   \n",
       "\n",
       "       11    12  \n",
       "0  396.90  4.98  \n",
       "1  396.90  9.14  \n",
       "2  392.83  4.03  \n",
       "3  394.63  2.94  \n",
       "4  396.90  5.33  "
      ]
     },
     "execution_count": 5,
     "metadata": {},
     "output_type": "execute_result"
    }
   ],
   "source": [
    "bos_init.colums = bos.feature_names\n",
    "bos_init.head()"
   ]
  },
  {
   "cell_type": "markdown",
   "metadata": {},
   "source": [
    "#### Further need to predict price, create a target variable for the ML model"
   ]
  },
  {
   "cell_type": "code",
   "execution_count": 6,
   "metadata": {},
   "outputs": [],
   "source": [
    "bos_init['Price'] = bos.target"
   ]
  },
  {
   "cell_type": "markdown",
   "metadata": {},
   "source": [
    "#### The ML model will need a numerical value rather than categorical value for the predection of price; check if there are any NULL values"
   ]
  },
  {
   "cell_type": "code",
   "execution_count": 7,
   "metadata": {},
   "outputs": [
    {
     "data": {
      "text/plain": [
       "0        0\n",
       "1        0\n",
       "2        0\n",
       "3        0\n",
       "4        0\n",
       "5        0\n",
       "6        0\n",
       "7        0\n",
       "8        0\n",
       "9        0\n",
       "10       0\n",
       "11       0\n",
       "12       0\n",
       "Price    0\n",
       "dtype: int64"
      ]
     },
     "execution_count": 7,
     "metadata": {},
     "output_type": "execute_result"
    }
   ],
   "source": [
    "bos_init.isnull().sum()"
   ]
  },
  {
   "cell_type": "markdown",
   "metadata": {},
   "source": [
    "#### Check if the values are categorical"
   ]
  },
  {
   "cell_type": "code",
   "execution_count": 8,
   "metadata": {
    "tags": []
   },
   "outputs": [
    {
     "name": "stdout",
     "output_type": "stream",
     "text": [
      "<class 'pandas.core.frame.DataFrame'>\n",
      "RangeIndex: 506 entries, 0 to 505\n",
      "Data columns (total 14 columns):\n",
      " #   Column  Non-Null Count  Dtype  \n",
      "---  ------  --------------  -----  \n",
      " 0   0       506 non-null    float64\n",
      " 1   1       506 non-null    float64\n",
      " 2   2       506 non-null    float64\n",
      " 3   3       506 non-null    float64\n",
      " 4   4       506 non-null    float64\n",
      " 5   5       506 non-null    float64\n",
      " 6   6       506 non-null    float64\n",
      " 7   7       506 non-null    float64\n",
      " 8   8       506 non-null    float64\n",
      " 9   9       506 non-null    float64\n",
      " 10  10      506 non-null    float64\n",
      " 11  11      506 non-null    float64\n",
      " 12  12      506 non-null    float64\n",
      " 13  Price   506 non-null    float64\n",
      "dtypes: float64(14)\n",
      "memory usage: 55.5 KB\n"
     ]
    }
   ],
   "source": [
    "bos_init.info()"
   ]
  },
  {
   "cell_type": "markdown",
   "metadata": {},
   "source": [
    "### <div style='font-family:Georgia'> Creating the ML model for the Price prediction <br>\n",
    "<b> Step 1: Separate features and target variables <br>\n",
    "Step 2: Split the dataset into training and testing dataset <br>\n",
    "Step 3: Continue creating the ML model </div>"
   ]
  },
  {
   "cell_type": "markdown",
   "metadata": {},
   "source": [
    "#### Separate features and target variables"
   ]
  },
  {
   "cell_type": "code",
   "execution_count": 9,
   "metadata": {},
   "outputs": [],
   "source": [
    "x = bos_init.drop(['Price'], axis = 1)\n",
    "y = bos_init['Price']"
   ]
  },
  {
   "cell_type": "markdown",
   "metadata": {},
   "source": [
    "#### Split the dataset into training and testing dataset"
   ]
  },
  {
   "cell_type": "code",
   "execution_count": 10,
   "metadata": {
    "tags": []
   },
   "outputs": [
    {
     "name": "stdout",
     "output_type": "stream",
     "text": [
      "Shape of x_train \n",
      " (404, 13) \n",
      "\n",
      " Shape of x_test \n",
      " (102, 13) \n",
      "-------------\n",
      "\n",
      "Shape of y_train \n",
      " (404,) \n",
      "\n",
      " Shape of y_test \n",
      " (102,)\n"
     ]
    }
   ],
   "source": [
    "from sklearn.model_selection import train_test_split\n",
    "x_train, x_test, y_train, y_test = train_test_split(x, y, test_size = 0.2, random_state = 1)\n",
    "print('Shape of x_train \\n', x_train.shape, '\\n\\n Shape of x_test \\n', x_test.shape, '\\n-------------\\n')\n",
    "print('Shape of y_train \\n', y_train.shape, '\\n\\n Shape of y_test \\n', y_test.shape)"
   ]
  },
  {
   "cell_type": "markdown",
   "metadata": {},
   "source": [
    "#### Creating the ML model"
   ]
  },
  {
   "cell_type": "code",
   "execution_count": 11,
   "metadata": {},
   "outputs": [
    {
     "data": {
      "text/plain": [
       "RandomForestRegressor()"
      ]
     },
     "execution_count": 11,
     "metadata": {},
     "output_type": "execute_result"
    }
   ],
   "source": [
    "from sklearn.ensemble import RandomForestRegressor\n",
    "classifier = RandomForestRegressor()\n",
    "classifier.fit(x_train, y_train)"
   ]
  },
  {
   "cell_type": "markdown",
   "metadata": {},
   "source": [
    "#### Model evaluation; evaluate the model performance for training and test dataset"
   ]
  },
  {
   "cell_type": "code",
   "execution_count": 12,
   "metadata": {
    "tags": []
   },
   "outputs": [
    {
     "name": "stdout",
     "output_type": "stream",
     "text": [
      "Training dataset model evaluation results \n",
      "\n",
      "R^2:  0.9814199968501339\n",
      "Mean Abs Error:  0.8210693069306922\n",
      "Mean Squared Error:  1.500918386138613\n",
      "Root Mean Square Error:  1.2251197435918715 \n",
      "\n",
      "\n",
      "Test dataset model evaluation results \n",
      "\n",
      "R^2:  0.9155554098202047\n",
      "Mean Abs Error:  2.2745784313725492\n",
      "Mean Squared Error:  8.345438401960783\n",
      "Root Mean Square Error:  2.888847244483651\n"
     ]
    }
   ],
   "source": [
    "##Training dataset model evaluation\n",
    "print('Training dataset model evaluation results \\n')\n",
    "prediction = classifier.predict(x_train)\n",
    "print('R^2: ', metrics.r2_score(y_train, prediction))\n",
    "print('Mean Abs Error: ', metrics.mean_absolute_error(y_train, prediction))\n",
    "print('Mean Squared Error: ', metrics.mean_squared_error(y_train, prediction))\n",
    "print('Root Mean Square Error: ', np.sqrt(metrics.mean_squared_error(y_train, prediction)), '\\n')\n",
    "\n",
    "##Test dataset model evaluation\n",
    "print('\\nTest dataset model evaluation results \\n')\n",
    "prediction_test = classifier.predict(x_test)\n",
    "print('R^2: ', metrics.r2_score(y_test, prediction_test))\n",
    "print('Mean Abs Error: ', metrics.mean_absolute_error(y_test, prediction_test))\n",
    "print('Mean Squared Error: ', metrics.mean_squared_error(y_test, prediction_test))\n",
    "print('Root Mean Square Error: ', np.sqrt(metrics.mean_squared_error(y_test, prediction_test)))"
   ]
  },
  {
   "cell_type": "markdown",
   "metadata": {},
   "source": [
    "### To save and use the ML object model files.\n",
    "#### <div> 1. Create a folder with the name 'model' within the root directory <br> 2. Create two empty files within 'model' folder with the following file name and extension 'model.pkl' and 'model_columns.pkl' </div>\n",
    "#### Serialization and Deserialization mechanism will be useful to store the ML object model in byte system and the other way round"
   ]
  },
  {
   "cell_type": "code",
   "execution_count": 13,
   "metadata": {},
   "outputs": [],
   "source": [
    "#Save the model to a file\n",
    "import pickle\n",
    "with open('model/model.pkl', 'wb') as file:\n",
    "    pickle.dump(classifier, file)\n",
    "\n",
    "#Save the Columns\n",
    "model_columns = list(x.columns)\n",
    "with open('model/model_columns.pkl', 'wb') as file:\n",
    "    pickle.dump(model_columns, file)"
   ]
  },
  {
   "cell_type": "markdown",
   "metadata": {},
   "source": [
    "---\n",
    "### <div style='font-family:Georgia; background:GhostWhite; text-align:center'>This marks the end of Flask_ML_API.ipynb file </div>\n",
    "---"
   ]
  },
  {
   "cell_type": "markdown",
   "metadata": {},
   "source": [
    "### Let is begin with app.py file to create a web server, API and modules to support the API call"
   ]
  },
  {
   "cell_type": "markdown",
   "metadata": {},
   "source": [
    "### <div> Install Flask in the Anaconda virtual environment. <br>\n",
    "1. If the Virtual Environment is not active, execute 'conda activate lifeofpy' before installing Flask <br>\n",
    "2. pip install Flask <br>\n",
    "3. Create a Python script file with the name 'app.py' wothin the root directory <br>\n",
    "4. To test the API with Postman | Download and Install POSTMAN </div>"
   ]
  },
  {
   "cell_type": "markdown",
   "metadata": {},
   "source": [
    "#### The below code will go in app.py file\n",
    "```python\n",
    "# Import the required libraries\n",
    "    from flask import render_template, request, jsonify, Flask\n",
    "    import flask\n",
    "    import traceback\n",
    "    import pickle\n",
    "    import pandas as pd\n",
    "\n",
    "    # Define the App\n",
    "    app = Flask(__name__)\n",
    " \n",
    "    # Import the models\n",
    "    with open('model/model.pkl', 'rb') as f:\n",
    "       classifier = pickle.load (f)\n",
    " \n",
    "    with open('model/model_columns.pkl', 'rb') as f:\n",
    "       model_columns = pickle.load (f)\n",
    " \n",
    "    @app.route('/')\n",
    "    def welcome():\n",
    "       return \"Price Prediction for the Boston Housing\"\n",
    " \n",
    "    @app.route('/predict', methods=['POST','GET'])\n",
    "    def predict():\n",
    "  \n",
    "       if flask.request.method == 'GET':\n",
    "           return \"Prediction page\"\n",
    " \n",
    "       if flask.request.method == 'POST':\n",
    "           try:\n",
    "               json_ = request.json\n",
    "               print(json_)\n",
    "               query_ = pd.get_dummies(pd.DataFrame(json_))\n",
    "               query = query_.reindex(columns = model_columns, fill_value = 0)\n",
    "               prediction = list(classifier.predict(query))\n",
    " \n",
    "               return jsonify({\n",
    "                   \"Predicted house price: \":str(prediction)\n",
    "               })\n",
    " \n",
    "           except:\n",
    "               return jsonify({\n",
    "                   \"trace\": traceback.format_exc()\n",
    "                   })\n",
    "      \n",
    "    if __name__ == \"__main__\":\n",
    "       app.run()\n",
    "```"
   ]
  },
  {
   "cell_type": "markdown",
   "metadata": {},
   "source": [
    "---\n",
    "### <div style='font-family:Georgia; background:GhostWhite; text-align:center'>This marks the end of app.py file</div>\n",
    "---"
   ]
  },
  {
   "cell_type": "markdown",
   "metadata": {},
   "source": [
    "## <div style='color:blue'> Sequence of execution <br> <div>\n",
    "1. Run Flas_ML_API.ipynb file <br>\n",
    "2. Run app.py <br>\n",
    "    Upon running app.py, the web server will start at http://localhost:5000/ or http://127.0.0.1:5000/\n",
    "3. Launch POSTMAN, Change the request type to POST and enter the URL http://localhost:5000/predict or http://127.0.0.1:5000/predict\n",
    "4. Click on the Body, Change the content type to JSON\n",
    "5. Enter the below sample JSON query and Click on Send\n",
    "    \n",
    "```json\n",
    "[\n",
    "    {\n",
    "        \"0\":\"0.04456\",\n",
    "        \"1\":\"21.0\",\n",
    "        \"2\":\"3.41\",\n",
    "        \"3\":\"5.98\",\n",
    "        \"4\":\"0.745\",\n",
    "        \"5\":\"4.238\",\n",
    "        \"6\":\"46.56\",\n",
    "        \"7\":\"3.709\",\n",
    "        \"8\":\"1.4\",\n",
    "        \"9\":\"300.09\",\n",
    "        \"10\":\"13.65\",\n",
    "        \"11\":\"403.21\",\n",
    "        \"12\":\"5.67\"\n",
    "    }\n",
    "]\n",
    "```"
   ]
  },
  {
   "cell_type": "markdown",
   "metadata": {},
   "source": [
    "### The preview should look like the image below\n",
    "![title](Json_preview.png)"
   ]
  },
  {
   "cell_type": "markdown",
   "metadata": {},
   "source": [
    "### The output should look like the image below\n",
    "![title](API_response.png)"
   ]
  },
  {
   "cell_type": "markdown",
   "metadata": {},
   "source": [
    "## Notice the Response that shows the predicted Price\n",
    "\n",
    "### With all the above steps complete, we now have created an FLASK REST API to make use of the ML model."
   ]
  }
 ],
 "metadata": {
  "kernelspec": {
   "display_name": "Python 3.7.7 64-bit ('lifeofpy': conda)",
   "language": "python",
   "name": "python37764bitlifeofpyconda5fd666fa156a415b9c57c21bd61084f2"
  },
  "language_info": {
   "codemirror_mode": {
    "name": "ipython",
    "version": 3
   },
   "file_extension": ".py",
   "mimetype": "text/x-python",
   "name": "python",
   "nbconvert_exporter": "python",
   "pygments_lexer": "ipython3",
   "version": "3.7.7"
  }
 },
 "nbformat": 4,
 "nbformat_minor": 2
}
