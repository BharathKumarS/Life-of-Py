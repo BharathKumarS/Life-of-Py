{
 "cells": [
  {
   "cell_type": "code",
   "execution_count": 1,
   "metadata": {},
   "outputs": [],
   "source": [
    "#Necessary libs\n",
    "import pandas as pd\n",
    "import numpy as np\n",
    "import matplotlib.pyplot as plt\n",
    "import seaborn as sns\n",
    "from sklearn import metrics"
   ]
  },
  {
   "cell_type": "code",
   "execution_count": 2,
   "metadata": {},
   "outputs": [],
   "source": [
    "##Get the dataset\n",
    "from sklearn.datasets import load_boston\n",
    "bos = load_boston()"
   ]
  },
  {
   "cell_type": "code",
   "execution_count": 3,
   "metadata": {},
   "outputs": [],
   "source": [
    "##Initialize dataset\n",
    "bos_init = pd.DataFrame(bos.data)"
   ]
  },
  {
   "cell_type": "code",
   "execution_count": 4,
   "metadata": {},
   "outputs": [
    {
     "output_type": "execute_result",
     "data": {
      "text/plain": "         0     1     2    3      4      5     6       7    8      9    10  \\\n0  0.00632  18.0  2.31  0.0  0.538  6.575  65.2  4.0900  1.0  296.0  15.3   \n1  0.02731   0.0  7.07  0.0  0.469  6.421  78.9  4.9671  2.0  242.0  17.8   \n2  0.02729   0.0  7.07  0.0  0.469  7.185  61.1  4.9671  2.0  242.0  17.8   \n3  0.03237   0.0  2.18  0.0  0.458  6.998  45.8  6.0622  3.0  222.0  18.7   \n4  0.06905   0.0  2.18  0.0  0.458  7.147  54.2  6.0622  3.0  222.0  18.7   \n\n       11    12  \n0  396.90  4.98  \n1  396.90  9.14  \n2  392.83  4.03  \n3  394.63  2.94  \n4  396.90  5.33  ",
      "text/html": "<div>\n<style scoped>\n    .dataframe tbody tr th:only-of-type {\n        vertical-align: middle;\n    }\n\n    .dataframe tbody tr th {\n        vertical-align: top;\n    }\n\n    .dataframe thead th {\n        text-align: right;\n    }\n</style>\n<table border=\"1\" class=\"dataframe\">\n  <thead>\n    <tr style=\"text-align: right;\">\n      <th></th>\n      <th>0</th>\n      <th>1</th>\n      <th>2</th>\n      <th>3</th>\n      <th>4</th>\n      <th>5</th>\n      <th>6</th>\n      <th>7</th>\n      <th>8</th>\n      <th>9</th>\n      <th>10</th>\n      <th>11</th>\n      <th>12</th>\n    </tr>\n  </thead>\n  <tbody>\n    <tr>\n      <th>0</th>\n      <td>0.00632</td>\n      <td>18.0</td>\n      <td>2.31</td>\n      <td>0.0</td>\n      <td>0.538</td>\n      <td>6.575</td>\n      <td>65.2</td>\n      <td>4.0900</td>\n      <td>1.0</td>\n      <td>296.0</td>\n      <td>15.3</td>\n      <td>396.90</td>\n      <td>4.98</td>\n    </tr>\n    <tr>\n      <th>1</th>\n      <td>0.02731</td>\n      <td>0.0</td>\n      <td>7.07</td>\n      <td>0.0</td>\n      <td>0.469</td>\n      <td>6.421</td>\n      <td>78.9</td>\n      <td>4.9671</td>\n      <td>2.0</td>\n      <td>242.0</td>\n      <td>17.8</td>\n      <td>396.90</td>\n      <td>9.14</td>\n    </tr>\n    <tr>\n      <th>2</th>\n      <td>0.02729</td>\n      <td>0.0</td>\n      <td>7.07</td>\n      <td>0.0</td>\n      <td>0.469</td>\n      <td>7.185</td>\n      <td>61.1</td>\n      <td>4.9671</td>\n      <td>2.0</td>\n      <td>242.0</td>\n      <td>17.8</td>\n      <td>392.83</td>\n      <td>4.03</td>\n    </tr>\n    <tr>\n      <th>3</th>\n      <td>0.03237</td>\n      <td>0.0</td>\n      <td>2.18</td>\n      <td>0.0</td>\n      <td>0.458</td>\n      <td>6.998</td>\n      <td>45.8</td>\n      <td>6.0622</td>\n      <td>3.0</td>\n      <td>222.0</td>\n      <td>18.7</td>\n      <td>394.63</td>\n      <td>2.94</td>\n    </tr>\n    <tr>\n      <th>4</th>\n      <td>0.06905</td>\n      <td>0.0</td>\n      <td>2.18</td>\n      <td>0.0</td>\n      <td>0.458</td>\n      <td>7.147</td>\n      <td>54.2</td>\n      <td>6.0622</td>\n      <td>3.0</td>\n      <td>222.0</td>\n      <td>18.7</td>\n      <td>396.90</td>\n      <td>5.33</td>\n    </tr>\n  </tbody>\n</table>\n</div>"
     },
     "metadata": {},
     "execution_count": 4
    }
   ],
   "source": [
    "###Preview of the top five rows\n",
    "bos_init.head()"
   ]
  },
  {
   "cell_type": "code",
   "execution_count": 5,
   "metadata": {},
   "outputs": [
    {
     "output_type": "execute_result",
     "data": {
      "text/plain": "         0     1     2    3      4      5     6       7    8      9    10  \\\n0  0.00632  18.0  2.31  0.0  0.538  6.575  65.2  4.0900  1.0  296.0  15.3   \n1  0.02731   0.0  7.07  0.0  0.469  6.421  78.9  4.9671  2.0  242.0  17.8   \n2  0.02729   0.0  7.07  0.0  0.469  7.185  61.1  4.9671  2.0  242.0  17.8   \n3  0.03237   0.0  2.18  0.0  0.458  6.998  45.8  6.0622  3.0  222.0  18.7   \n4  0.06905   0.0  2.18  0.0  0.458  7.147  54.2  6.0622  3.0  222.0  18.7   \n\n       11    12  \n0  396.90  4.98  \n1  396.90  9.14  \n2  392.83  4.03  \n3  394.63  2.94  \n4  396.90  5.33  ",
      "text/html": "<div>\n<style scoped>\n    .dataframe tbody tr th:only-of-type {\n        vertical-align: middle;\n    }\n\n    .dataframe tbody tr th {\n        vertical-align: top;\n    }\n\n    .dataframe thead th {\n        text-align: right;\n    }\n</style>\n<table border=\"1\" class=\"dataframe\">\n  <thead>\n    <tr style=\"text-align: right;\">\n      <th></th>\n      <th>0</th>\n      <th>1</th>\n      <th>2</th>\n      <th>3</th>\n      <th>4</th>\n      <th>5</th>\n      <th>6</th>\n      <th>7</th>\n      <th>8</th>\n      <th>9</th>\n      <th>10</th>\n      <th>11</th>\n      <th>12</th>\n    </tr>\n  </thead>\n  <tbody>\n    <tr>\n      <th>0</th>\n      <td>0.00632</td>\n      <td>18.0</td>\n      <td>2.31</td>\n      <td>0.0</td>\n      <td>0.538</td>\n      <td>6.575</td>\n      <td>65.2</td>\n      <td>4.0900</td>\n      <td>1.0</td>\n      <td>296.0</td>\n      <td>15.3</td>\n      <td>396.90</td>\n      <td>4.98</td>\n    </tr>\n    <tr>\n      <th>1</th>\n      <td>0.02731</td>\n      <td>0.0</td>\n      <td>7.07</td>\n      <td>0.0</td>\n      <td>0.469</td>\n      <td>6.421</td>\n      <td>78.9</td>\n      <td>4.9671</td>\n      <td>2.0</td>\n      <td>242.0</td>\n      <td>17.8</td>\n      <td>396.90</td>\n      <td>9.14</td>\n    </tr>\n    <tr>\n      <th>2</th>\n      <td>0.02729</td>\n      <td>0.0</td>\n      <td>7.07</td>\n      <td>0.0</td>\n      <td>0.469</td>\n      <td>7.185</td>\n      <td>61.1</td>\n      <td>4.9671</td>\n      <td>2.0</td>\n      <td>242.0</td>\n      <td>17.8</td>\n      <td>392.83</td>\n      <td>4.03</td>\n    </tr>\n    <tr>\n      <th>3</th>\n      <td>0.03237</td>\n      <td>0.0</td>\n      <td>2.18</td>\n      <td>0.0</td>\n      <td>0.458</td>\n      <td>6.998</td>\n      <td>45.8</td>\n      <td>6.0622</td>\n      <td>3.0</td>\n      <td>222.0</td>\n      <td>18.7</td>\n      <td>394.63</td>\n      <td>2.94</td>\n    </tr>\n    <tr>\n      <th>4</th>\n      <td>0.06905</td>\n      <td>0.0</td>\n      <td>2.18</td>\n      <td>0.0</td>\n      <td>0.458</td>\n      <td>7.147</td>\n      <td>54.2</td>\n      <td>6.0622</td>\n      <td>3.0</td>\n      <td>222.0</td>\n      <td>18.7</td>\n      <td>396.90</td>\n      <td>5.33</td>\n    </tr>\n  </tbody>\n</table>\n</div>"
     },
     "metadata": {},
     "execution_count": 5
    }
   ],
   "source": [
    "##Import feature names from the dataset\n",
    "bos_init.colums = bos.feature_names\n",
    "bos_init.head()"
   ]
  },
  {
   "cell_type": "code",
   "execution_count": 6,
   "metadata": {},
   "outputs": [],
   "source": [
    "##Further need to predict price, create a target variable for the ML model\n",
    "bos_init['Price'] = bos.target"
   ]
  },
  {
   "cell_type": "code",
   "execution_count": 7,
   "metadata": {},
   "outputs": [
    {
     "output_type": "execute_result",
     "data": {
      "text/plain": "0        0\n1        0\n2        0\n3        0\n4        0\n5        0\n6        0\n7        0\n8        0\n9        0\n10       0\n11       0\n12       0\nPrice    0\ndtype: int64"
     },
     "metadata": {},
     "execution_count": 7
    }
   ],
   "source": [
    "##The ML model will need a numerical value rather than categorical value for the predection of price; check if there are any NULL values\n",
    "bos_init.isnull().sum()"
   ]
  },
  {
   "cell_type": "code",
   "execution_count": 8,
   "metadata": {
    "tags": []
   },
   "outputs": [
    {
     "output_type": "stream",
     "name": "stdout",
     "text": "<class 'pandas.core.frame.DataFrame'>\nRangeIndex: 506 entries, 0 to 505\nData columns (total 14 columns):\n #   Column  Non-Null Count  Dtype  \n---  ------  --------------  -----  \n 0   0       506 non-null    float64\n 1   1       506 non-null    float64\n 2   2       506 non-null    float64\n 3   3       506 non-null    float64\n 4   4       506 non-null    float64\n 5   5       506 non-null    float64\n 6   6       506 non-null    float64\n 7   7       506 non-null    float64\n 8   8       506 non-null    float64\n 9   9       506 non-null    float64\n 10  10      506 non-null    float64\n 11  11      506 non-null    float64\n 12  12      506 non-null    float64\n 13  Price   506 non-null    float64\ndtypes: float64(14)\nmemory usage: 55.5 KB\n"
    }
   ],
   "source": [
    "##Check if the values are categorical\n",
    "bos_init.info()"
   ]
  },
  {
   "cell_type": "code",
   "execution_count": null,
   "metadata": {},
   "outputs": [],
   "source": [
    "#Creating the ML model for the Price prediction\n",
    "##Step 1: Separate features and target variables\n",
    "##Step 2: Split the dataset into training and testing dataset\n",
    "##Continue creating the ML model"
   ]
  },
  {
   "cell_type": "code",
   "execution_count": 10,
   "metadata": {},
   "outputs": [],
   "source": [
    "##Separate features and target variables\n",
    "x = bos_init.drop(['Price'], axis = 1)\n",
    "y = bos_init['Price'] "
   ]
  },
  {
   "cell_type": "code",
   "execution_count": 15,
   "metadata": {
    "tags": []
   },
   "outputs": [
    {
     "output_type": "stream",
     "name": "stdout",
     "text": "Shape of x_train \n (404, 13) \n\n Shape of x_test \n (102, 13) \n-------------\n\nShape of y_train \n (404,) \n\n Shape of y_test \n (102,)\n"
    }
   ],
   "source": [
    "##Split the dataset into training and testing dataset\n",
    "from sklearn.model_selection import train_test_split\n",
    "x_train, x_test, y_train, y_test = train_test_split(x, y, test_size = 0.2, random_state = 1)\n",
    "print('Shape of x_train \\n', x_train.shape, '\\n\\n Shape of x_test \\n', x_test.shape, '\\n-------------\\n')\n",
    "print('Shape of y_train \\n', y_train.shape, '\\n\\n Shape of y_test \\n', y_test.shape)"
   ]
  },
  {
   "cell_type": "code",
   "execution_count": 16,
   "metadata": {},
   "outputs": [
    {
     "output_type": "execute_result",
     "data": {
      "text/plain": "RandomForestRegressor()"
     },
     "metadata": {},
     "execution_count": 16
    }
   ],
   "source": [
    "##Creating the ML model\n",
    "from sklearn.ensemble import RandomForestRegressor\n",
    "classifier = RandomForestRegressor()\n",
    "classifier.fit(x_train, y_train)"
   ]
  },
  {
   "cell_type": "markdown",
   "metadata": {},
   "source": [
    "Model evaluation; evaluate the model performance for training and test dataset"
   ]
  },
  {
   "cell_type": "code",
   "execution_count": 19,
   "metadata": {
    "tags": []
   },
   "outputs": [
    {
     "output_type": "stream",
     "name": "stdout",
     "text": "Training dataset model evaluation results \n\nR^2:  0.9832366322595792\nMean Abs Error:  0.8056212871287117\nMean Squared Error:  1.3541680618811858\nRoot Mean Square Error:  1.1636872697942457 \n\n\nTraining dataset model evaluation results \n\nR^2:  0.9197906061986997\nMean Abs Error:  2.2218823529411758\nMean Squared Error:  7.926885000000001\nRoot Mean Square Error:  2.815472429273638\n"
    }
   ],
   "source": [
    "##Training dataset model evaluation\n",
    "print('Training dataset model evaluation results \\n')\n",
    "predict_train = classifier.predict(x_train)\n",
    "print('R^2: ', metrics.r2_score(y_train, predict_train))\n",
    "print('Mean Abs Error: ', metrics.mean_absolute_error(y_train, predict_train))\n",
    "print('Mean Squared Error: ', metrics.mean_squared_error(y_train, predict_train))\n",
    "print('Root Mean Square Error: ', np.sqrt(metrics.mean_squared_error(y_train, predict_train)), '\\n')\n",
    "\n",
    "##Test dataset model evaluation\n",
    "print('\\nTraining dataset model evaluation results \\n')\n",
    "predict_test = classifier.predict(x_test)\n",
    "print('R^2: ', metrics.r2_score(y_test, predict_test))\n",
    "print('Mean Abs Error: ', metrics.mean_absolute_error(y_test, predict_test))\n",
    "print('Mean Squared Error: ', metrics.mean_squared_error(y_test, predict_test))\n",
    "print('Root Mean Square Error: ', np.sqrt(metrics.mean_squared_error(y_test, predict_test)))"
   ]
  },
  {
   "cell_type": "markdown",
   "metadata": {},
   "source": [
    "Save and use the ML model.\n",
    "Serialization and Deserialization mechanism will be useful to store the ML object model in byte system and the other way round"
   ]
  },
  {
   "cell_type": "code",
   "execution_count": 25,
   "metadata": {},
   "outputs": [],
   "source": [
    "#Save the model to a file\n",
    "import pickle\n",
    "with open('model/model.pkl', 'wb') as file:\n",
    "    pickle.dump(classifier, file)\n",
    "\n",
    "#Save the Columns\n",
    "model_columns = list(x.columns)\n",
    "with open('model/model_columns.pkl', 'wb') as file:\n",
    "    pickle.dump(model_columns, file)"
   ]
  },
  {
   "cell_type": "markdown",
   "metadata": {},
   "source": [
    "API Creation for the ML model"
   ]
  },
  {
   "cell_type": "markdown",
   "metadata": {},
   "source": [
    "Step 1: pip install Flask"
   ]
  },
  {
   "cell_type": "code",
   "execution_count": 27,
   "metadata": {},
   "outputs": [],
   "source": [
    "from flask import Flask\n",
    "app = Flask(__name__)\n",
    "@app.route('/', methods=['GET, 'POST'])\n",
    "\n",
    "def main():\n",
    "    return 'Price Prediction for Boston House'"
   ]
  }
 ],
 "metadata": {
  "language_info": {
   "codemirror_mode": {
    "name": "ipython",
    "version": 3
   },
   "file_extension": ".py",
   "mimetype": "text/x-python",
   "name": "python",
   "nbconvert_exporter": "python",
   "pygments_lexer": "ipython3",
   "version": "3.7.7-final"
  },
  "orig_nbformat": 2,
  "kernelspec": {
   "name": "python37764bitlifeofpyconda5fd666fa156a415b9c57c21bd61084f2",
   "display_name": "Python 3.7.7 64-bit ('lifeofpy': conda)"
  }
 },
 "nbformat": 4,
 "nbformat_minor": 2
}