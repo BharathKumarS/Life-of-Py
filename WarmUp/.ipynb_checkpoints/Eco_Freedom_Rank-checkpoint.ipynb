{
 "cells": [
  {
   "cell_type": "markdown",
   "metadata": {},
   "source": [
    "# Economic Freedom Ranking 2019, fundamental analysis"
   ]
  },
  {
   "cell_type": "markdown",
   "metadata": {},
   "source": [
    "### Importing libraries required to read file, manage data and plot graphs"
   ]
  },
  {
   "cell_type": "code",
   "execution_count": 42,
   "metadata": {},
   "outputs": [],
   "source": [
    "import pandas as pd\n",
    "import matplotlib.pyplot as plt\n",
    "import seaborn as sb"
   ]
  },
  {
   "cell_type": "markdown",
   "metadata": {},
   "source": [
    "### Creating different Dataframes based on the requirements (with NaN rows skipped)"
   ]
  },
  {
   "cell_type": "code",
   "execution_count": 43,
   "metadata": {},
   "outputs": [],
   "source": [
    "# To plot the time series line plot of the results from function mov_median\n",
    "efw_panel = pd.read_excel('efw-2019-master-index-data-for-researchers.xlsx',sheet_name = 'EFW Panel Data 2019 Report', usecols = 'B,D:E', header = 2)\n",
    "efw_panel.dropna(axis = 0, how = 'any', inplace = True)\n",
    "\n",
    "# To Plot bar chart that displays the Top Marginal Income Tax Rate for the top 20 countries that ranked highest in the Economic Freedom Index\n",
    "top_mar = pd.read_excel('efw-2019-master-index-data-for-researchers.xlsx', sheet_name = 'EFW Index 2019 Report', usecols = 'D:E,N', header = 4)\n",
    "top_mar.dropna(axis = 0, how = 'any', inplace = True)\n",
    "\n",
    "#To scatter plot the relationship between \"Reliability of Police\" and \"Business Cost of Crime\" variables for all countries in the 2019 report\n",
    "police_bus = pd.read_excel('efw-2019-master-index-data-for-researchers.xlsx', sheet_name = 'EFW Index 2019 Report', usecols = 'D,AB:AC', header = 4)\n",
    "police_bus.dropna(axis = 0, how = 'any', inplace = True)\n"
   ]
  },
  {
   "cell_type": "markdown",
   "metadata": {},
   "source": [
    "### Creating different Dataframes based on the requirements (including rows with NaN)"
   ]
  },
  {
   "cell_type": "code",
   "execution_count": 28,
   "metadata": {},
   "outputs": [],
   "source": [
    "# To plot the time series line plot of the results from function mov_median\n",
    "efw_panel_na = pd.read_excel('efw-2019-master-index-data-for-researchers.xlsx',sheet_name = 'EFW Panel Data 2019 Report', usecols = 'B,D:E', header = 2)\n",
    "\n",
    "# To Plot bar chart that displays the Top Marginal Income Tax Rate for the top 20 countries that ranked highest in the Economic Freedom Index\n",
    "top_mar_na = pd.read_excel('efw-2019-master-index-data-for-researchers.xlsx', sheet_name = 'EFW Index 2019 Report', usecols = 'D:E,N', header = 4)\n",
    "\n",
    "#To scatter plot the relationship between \"Reliability of Police\" and \"Business Cost of Crime\" variables for all countries in the 2019 report\n",
    "police_bus_na = pd.read_excel('efw-2019-master-index-data-for-researchers.xlsx', sheet_name = 'EFW Index 2019 Report', usecols = 'D,AB:AC', header = 4)\n"
   ]
  },
  {
   "cell_type": "markdown",
   "metadata": {},
   "source": [
    "### Function mov_median to subset the observations for specified country"
   ]
  },
  {
   "cell_type": "code",
   "execution_count": 57,
   "metadata": {
    "scrolled": false
   },
   "outputs": [],
   "source": [
    "def mov_median(dataframe, country, column, periods):\n",
    "    pd.set_option('mode.chained_assignment', None)\n",
    "    efw = dataframe[dataframe[column] == country]\n",
    "    efw['EFW_MA'] = efw.iloc[:,2].rolling(window = periods).mean()\n",
    "    efw.plot(x = 'Year', y = 'EFW_MA')\n",
    "    return(efw)"
   ]
  },
  {
   "cell_type": "markdown",
   "metadata": {},
   "source": [
    "### Driving function call to see the subset and Time series for the specified country"
   ]
  },
  {
   "cell_type": "code",
   "execution_count": 58,
   "metadata": {},
   "outputs": [
    {
     "data": {
      "text/html": [
       "<div>\n",
       "<style scoped>\n",
       "    .dataframe tbody tr th:only-of-type {\n",
       "        vertical-align: middle;\n",
       "    }\n",
       "\n",
       "    .dataframe tbody tr th {\n",
       "        vertical-align: top;\n",
       "    }\n",
       "\n",
       "    .dataframe thead th {\n",
       "        text-align: right;\n",
       "    }\n",
       "</style>\n",
       "<table border=\"1\" class=\"dataframe\">\n",
       "  <thead>\n",
       "    <tr style=\"text-align: right;\">\n",
       "      <th></th>\n",
       "      <th>Year</th>\n",
       "      <th>Countries</th>\n",
       "      <th>EFW</th>\n",
       "      <th>EFW_MA</th>\n",
       "    </tr>\n",
       "  </thead>\n",
       "  <tbody>\n",
       "    <tr>\n",
       "      <th>3696</th>\n",
       "      <td>2017</td>\n",
       "      <td>United Kingdom</td>\n",
       "      <td>8.092294</td>\n",
       "      <td>NaN</td>\n",
       "    </tr>\n",
       "    <tr>\n",
       "      <th>3697</th>\n",
       "      <td>2016</td>\n",
       "      <td>United Kingdom</td>\n",
       "      <td>8.062981</td>\n",
       "      <td>NaN</td>\n",
       "    </tr>\n",
       "    <tr>\n",
       "      <th>3698</th>\n",
       "      <td>2015</td>\n",
       "      <td>United Kingdom</td>\n",
       "      <td>8.075913</td>\n",
       "      <td>8.077063</td>\n",
       "    </tr>\n",
       "    <tr>\n",
       "      <th>3699</th>\n",
       "      <td>2014</td>\n",
       "      <td>United Kingdom</td>\n",
       "      <td>7.973524</td>\n",
       "      <td>8.037473</td>\n",
       "    </tr>\n",
       "    <tr>\n",
       "      <th>3700</th>\n",
       "      <td>2013</td>\n",
       "      <td>United Kingdom</td>\n",
       "      <td>8.003675</td>\n",
       "      <td>8.017704</td>\n",
       "    </tr>\n",
       "    <tr>\n",
       "      <th>3701</th>\n",
       "      <td>2012</td>\n",
       "      <td>United Kingdom</td>\n",
       "      <td>8.023953</td>\n",
       "      <td>8.000384</td>\n",
       "    </tr>\n",
       "    <tr>\n",
       "      <th>3702</th>\n",
       "      <td>2011</td>\n",
       "      <td>United Kingdom</td>\n",
       "      <td>7.991630</td>\n",
       "      <td>8.006419</td>\n",
       "    </tr>\n",
       "    <tr>\n",
       "      <th>3703</th>\n",
       "      <td>2010</td>\n",
       "      <td>United Kingdom</td>\n",
       "      <td>8.028130</td>\n",
       "      <td>8.014571</td>\n",
       "    </tr>\n",
       "    <tr>\n",
       "      <th>3704</th>\n",
       "      <td>2009</td>\n",
       "      <td>United Kingdom</td>\n",
       "      <td>8.010150</td>\n",
       "      <td>8.009970</td>\n",
       "    </tr>\n",
       "    <tr>\n",
       "      <th>3705</th>\n",
       "      <td>2008</td>\n",
       "      <td>United Kingdom</td>\n",
       "      <td>8.025975</td>\n",
       "      <td>8.021418</td>\n",
       "    </tr>\n",
       "    <tr>\n",
       "      <th>3706</th>\n",
       "      <td>2007</td>\n",
       "      <td>United Kingdom</td>\n",
       "      <td>8.192020</td>\n",
       "      <td>8.076048</td>\n",
       "    </tr>\n",
       "    <tr>\n",
       "      <th>3707</th>\n",
       "      <td>2006</td>\n",
       "      <td>United Kingdom</td>\n",
       "      <td>8.302836</td>\n",
       "      <td>8.173610</td>\n",
       "    </tr>\n",
       "    <tr>\n",
       "      <th>3708</th>\n",
       "      <td>2005</td>\n",
       "      <td>United Kingdom</td>\n",
       "      <td>8.393285</td>\n",
       "      <td>8.296047</td>\n",
       "    </tr>\n",
       "    <tr>\n",
       "      <th>3709</th>\n",
       "      <td>2004</td>\n",
       "      <td>United Kingdom</td>\n",
       "      <td>8.382597</td>\n",
       "      <td>8.359573</td>\n",
       "    </tr>\n",
       "    <tr>\n",
       "      <th>3710</th>\n",
       "      <td>2003</td>\n",
       "      <td>United Kingdom</td>\n",
       "      <td>8.499127</td>\n",
       "      <td>8.425003</td>\n",
       "    </tr>\n",
       "    <tr>\n",
       "      <th>3711</th>\n",
       "      <td>2002</td>\n",
       "      <td>United Kingdom</td>\n",
       "      <td>8.490705</td>\n",
       "      <td>8.457476</td>\n",
       "    </tr>\n",
       "    <tr>\n",
       "      <th>3712</th>\n",
       "      <td>2001</td>\n",
       "      <td>United Kingdom</td>\n",
       "      <td>8.452018</td>\n",
       "      <td>8.480617</td>\n",
       "    </tr>\n",
       "    <tr>\n",
       "      <th>3713</th>\n",
       "      <td>2000</td>\n",
       "      <td>United Kingdom</td>\n",
       "      <td>8.518925</td>\n",
       "      <td>8.487216</td>\n",
       "    </tr>\n",
       "    <tr>\n",
       "      <th>3714</th>\n",
       "      <td>1995</td>\n",
       "      <td>United Kingdom</td>\n",
       "      <td>8.076496</td>\n",
       "      <td>8.349147</td>\n",
       "    </tr>\n",
       "    <tr>\n",
       "      <th>3715</th>\n",
       "      <td>1990</td>\n",
       "      <td>United Kingdom</td>\n",
       "      <td>7.939640</td>\n",
       "      <td>8.178354</td>\n",
       "    </tr>\n",
       "    <tr>\n",
       "      <th>3716</th>\n",
       "      <td>1985</td>\n",
       "      <td>United Kingdom</td>\n",
       "      <td>7.401115</td>\n",
       "      <td>7.805750</td>\n",
       "    </tr>\n",
       "    <tr>\n",
       "      <th>3717</th>\n",
       "      <td>1980</td>\n",
       "      <td>United Kingdom</td>\n",
       "      <td>6.449941</td>\n",
       "      <td>7.263565</td>\n",
       "    </tr>\n",
       "    <tr>\n",
       "      <th>3718</th>\n",
       "      <td>1975</td>\n",
       "      <td>United Kingdom</td>\n",
       "      <td>5.815599</td>\n",
       "      <td>6.555551</td>\n",
       "    </tr>\n",
       "    <tr>\n",
       "      <th>3719</th>\n",
       "      <td>1970</td>\n",
       "      <td>United Kingdom</td>\n",
       "      <td>5.873943</td>\n",
       "      <td>6.046494</td>\n",
       "    </tr>\n",
       "  </tbody>\n",
       "</table>\n",
       "</div>"
      ],
      "text/plain": [
       "      Year       Countries       EFW    EFW_MA\n",
       "3696  2017  United Kingdom  8.092294       NaN\n",
       "3697  2016  United Kingdom  8.062981       NaN\n",
       "3698  2015  United Kingdom  8.075913  8.077063\n",
       "3699  2014  United Kingdom  7.973524  8.037473\n",
       "3700  2013  United Kingdom  8.003675  8.017704\n",
       "3701  2012  United Kingdom  8.023953  8.000384\n",
       "3702  2011  United Kingdom  7.991630  8.006419\n",
       "3703  2010  United Kingdom  8.028130  8.014571\n",
       "3704  2009  United Kingdom  8.010150  8.009970\n",
       "3705  2008  United Kingdom  8.025975  8.021418\n",
       "3706  2007  United Kingdom  8.192020  8.076048\n",
       "3707  2006  United Kingdom  8.302836  8.173610\n",
       "3708  2005  United Kingdom  8.393285  8.296047\n",
       "3709  2004  United Kingdom  8.382597  8.359573\n",
       "3710  2003  United Kingdom  8.499127  8.425003\n",
       "3711  2002  United Kingdom  8.490705  8.457476\n",
       "3712  2001  United Kingdom  8.452018  8.480617\n",
       "3713  2000  United Kingdom  8.518925  8.487216\n",
       "3714  1995  United Kingdom  8.076496  8.349147\n",
       "3715  1990  United Kingdom  7.939640  8.178354\n",
       "3716  1985  United Kingdom  7.401115  7.805750\n",
       "3717  1980  United Kingdom  6.449941  7.263565\n",
       "3718  1975  United Kingdom  5.815599  6.555551\n",
       "3719  1970  United Kingdom  5.873943  6.046494"
      ]
     },
     "execution_count": 58,
     "metadata": {},
     "output_type": "execute_result"
    },
    {
     "data": {
      "image/png": "[encoded data removed]",
      "text/plain": [
       "<Figure size 432x288 with 1 Axes>"
      ]
     },
     "metadata": {
      "needs_background": "light"
     },
     "output_type": "display_data"
    }
   ],
   "source": [
    "result = mov_median(efw_panel, 'United Kingdom', 'Countries', 3)\n",
    "result"
   ]
  },
  {
   "cell_type": "code",
   "execution_count": null,
   "metadata": {},
   "outputs": [],
   "source": []
  }
 ],
 "metadata": {
  "kernelspec": {
   "display_name": "Python 3",
   "language": "python",
   "name": "python3"
  },
  "language_info": {
   "codemirror_mode": {
    "name": "ipython",
    "version": 3
   },
   "file_extension": ".py",
   "mimetype": "text/x-python",
   "name": "python",
   "nbconvert_exporter": "python",
   "pygments_lexer": "ipython3",
   "version": "3.7.4"
  }
 },
 "nbformat": 4,
 "nbformat_minor": 4
}
