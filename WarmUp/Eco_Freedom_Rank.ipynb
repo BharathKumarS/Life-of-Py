{
 "cells": [
  {
   "cell_type": "markdown",
   "metadata": {},
   "source": [
    "# Economic Freedom Ranking 2019, fundamental analysis"
   ]
  },
  {
   "cell_type": "markdown",
   "metadata": {},
   "source": [
    "### Importing libraries required to read file, manage data and plot graphs"
   ]
  },
  {
   "cell_type": "code",
   "execution_count": 8,
   "metadata": {},
   "outputs": [],
   "source": [
    "import pandas as pd\n",
    "import matplotlib as plt\n",
    "import seaborn as sb"
   ]
  },
  {
   "cell_type": "markdown",
   "metadata": {},
   "source": [
    "### Creating different Dataframes based on the requirements"
   ]
  },
  {
   "cell_type": "code",
   "execution_count": 25,
   "metadata": {},
   "outputs": [],
   "source": [
    "# To plot the time series line plot of the results from function mov_median\n",
    "efw_panel = pd.read_excel('efw-2019-master-index-data-for-researchers.xlsx',sheet_name = 'EFW Panel Data 2019 Report', usecols = 'D:E', header = 2)\n",
    "efw_panel.dropna(axis = 0, how = 'any', inplace = True)\n",
    "\n",
    "# To Plot bar chart that displays the Top Marginal Income Tax Rate for the top 20 countries that ranked highest in the Economic Freedom Index\n",
    "top_mar = pd.read_excel('efw-2019-master-index-data-for-researchers.xlsx', sheet_name = 'EFW Index 2019 Report', usecols = 'D:E,N', header = 4)\n",
    "top_mar.dropna(axis = 0, how = 'any', inplace = True)\n",
    "\n",
    "#To scatter plot the relationship between \"Reliability of Police\" and \"Business Cost of Crime\" variables for all countries in the 2019 report\n",
    "police_bus = pd.read_excel('efw-2019-master-index-data-for-researchers.xlsx', sheet_name = 'EFW Index 2019 Report', usecols = 'D,AB:AC', header = 4)\n",
    "police_bus.dropna(axis = 0, how = 'any', inplace = True)\n"
   ]
  },
  {
   "cell_type": "code",
   "execution_count": 26,
   "metadata": {},
   "outputs": [
    {
     "data": {
      "text/html": [
       "<div>\n",
       "<style scoped>\n",
       "    .dataframe tbody tr th:only-of-type {\n",
       "        vertical-align: middle;\n",
       "    }\n",
       "\n",
       "    .dataframe tbody tr th {\n",
       "        vertical-align: top;\n",
       "    }\n",
       "\n",
       "    .dataframe thead th {\n",
       "        text-align: right;\n",
       "    }\n",
       "</style>\n",
       "<table border=\"1\" class=\"dataframe\">\n",
       "  <thead>\n",
       "    <tr style=\"text-align: right;\">\n",
       "      <th></th>\n",
       "      <th>Countries</th>\n",
       "      <th>Reliability of police</th>\n",
       "      <th>Business costs of crime</th>\n",
       "    </tr>\n",
       "  </thead>\n",
       "  <tbody>\n",
       "    <tr>\n",
       "      <th>0</th>\n",
       "      <td>Albania</td>\n",
       "      <td>6.824169</td>\n",
       "      <td>6.215401</td>\n",
       "    </tr>\n",
       "    <tr>\n",
       "      <th>1</th>\n",
       "      <td>Algeria</td>\n",
       "      <td>6.101120</td>\n",
       "      <td>6.737383</td>\n",
       "    </tr>\n",
       "    <tr>\n",
       "      <th>2</th>\n",
       "      <td>Angola</td>\n",
       "      <td>3.362069</td>\n",
       "      <td>4.291197</td>\n",
       "    </tr>\n",
       "    <tr>\n",
       "      <th>3</th>\n",
       "      <td>Argentina</td>\n",
       "      <td>3.702924</td>\n",
       "      <td>4.133832</td>\n",
       "    </tr>\n",
       "    <tr>\n",
       "      <th>4</th>\n",
       "      <td>Armenia</td>\n",
       "      <td>5.844935</td>\n",
       "      <td>7.007654</td>\n",
       "    </tr>\n",
       "    <tr>\n",
       "      <th>...</th>\n",
       "      <td>...</td>\n",
       "      <td>...</td>\n",
       "      <td>...</td>\n",
       "    </tr>\n",
       "    <tr>\n",
       "      <th>2100</th>\n",
       "      <td>Uruguay</td>\n",
       "      <td>4.835681</td>\n",
       "      <td>4.351852</td>\n",
       "    </tr>\n",
       "    <tr>\n",
       "      <th>2101</th>\n",
       "      <td>Venezuela</td>\n",
       "      <td>1.818182</td>\n",
       "      <td>1.363636</td>\n",
       "    </tr>\n",
       "    <tr>\n",
       "      <th>2102</th>\n",
       "      <td>Vietnam</td>\n",
       "      <td>5.882353</td>\n",
       "      <td>6.000000</td>\n",
       "    </tr>\n",
       "    <tr>\n",
       "      <th>2104</th>\n",
       "      <td>Zambia</td>\n",
       "      <td>4.947368</td>\n",
       "      <td>3.263158</td>\n",
       "    </tr>\n",
       "    <tr>\n",
       "      <th>2105</th>\n",
       "      <td>Zimbabwe</td>\n",
       "      <td>3.009259</td>\n",
       "      <td>3.842593</td>\n",
       "    </tr>\n",
       "  </tbody>\n",
       "</table>\n",
       "<p>1803 rows × 3 columns</p>\n",
       "</div>"
      ],
      "text/plain": [
       "      Countries  Reliability of police  Business costs of crime\n",
       "0       Albania               6.824169                 6.215401\n",
       "1       Algeria               6.101120                 6.737383\n",
       "2        Angola               3.362069                 4.291197\n",
       "3     Argentina               3.702924                 4.133832\n",
       "4       Armenia               5.844935                 7.007654\n",
       "...         ...                    ...                      ...\n",
       "2100    Uruguay               4.835681                 4.351852\n",
       "2101  Venezuela               1.818182                 1.363636\n",
       "2102    Vietnam               5.882353                 6.000000\n",
       "2104     Zambia               4.947368                 3.263158\n",
       "2105   Zimbabwe               3.009259                 3.842593\n",
       "\n",
       "[1803 rows x 3 columns]"
      ]
     },
     "execution_count": 26,
     "metadata": {},
     "output_type": "execute_result"
    }
   ],
   "source": [
    "police_bus"
   ]
  },
  {
   "cell_type": "code",
   "execution_count": null,
   "metadata": {},
   "outputs": [],
   "source": []
  }
 ],
 "metadata": {
  "kernelspec": {
   "display_name": "Python 3",
   "language": "python",
   "name": "python3"
  },
  "language_info": {
   "codemirror_mode": {
    "name": "ipython",
    "version": 3
   },
   "file_extension": ".py",
   "mimetype": "text/x-python",
   "name": "python",
   "nbconvert_exporter": "python",
   "pygments_lexer": "ipython3",
   "version": "3.7.4"
  }
 },
 "nbformat": 4,
 "nbformat_minor": 4
}
